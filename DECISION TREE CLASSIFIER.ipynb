{
 "cells": [
  {
   "cell_type": "code",
   "execution_count": 7,
   "id": "de883c45",
   "metadata": {},
   "outputs": [],
   "source": [
    "import pandas as pd\n",
    "import numpy as np\n",
    "\n",
    "from sklearn.model_selection import train_test_split\n",
    "\n",
    "train = pd.read_csv('train.csv')"
   ]
  },
  {
   "cell_type": "markdown",
   "id": "c3b920e3",
   "metadata": {},
   "source": [
    "# NODE CLASS"
   ]
  },
  {
   "cell_type": "code",
   "execution_count": 8,
   "id": "850bed45",
   "metadata": {},
   "outputs": [],
   "source": [
    "class Node():\n",
    "    def __init__(self,feature_index=None,threshold=None,left=None,right=None,info_gain=None, value=None):\n",
    "        #decision node\n",
    "        self.feature_index=feature_index\n",
    "        self.threshold=threshold\n",
    "        self.left=left\n",
    "        self.right=right\n",
    "        self.info_gain=info_gain\n",
    "        #Leaf node\n",
    "        self.value=value"
   ]
  },
  {
   "cell_type": "markdown",
   "id": "9b0c085b",
   "metadata": {},
   "source": [
    "# TREE CLASS"
   ]
  },
  {
   "cell_type": "code",
   "execution_count": 9,
   "id": "fdfbd514",
   "metadata": {},
   "outputs": [],
   "source": [
    "class Decision_tree():\n",
    "    def __init__(self,min_samples_split=2,max_depth=2):\n",
    "       #initialize the root\n",
    "        self.root=None\n",
    "        \n",
    "        #stopping conditions\n",
    "        self.min_samples_split= min_samples_split\n",
    "        self.max_depth=max_depth\n",
    "        \n",
    "    def build_tree(self,dataset,curr_depth=0):\n",
    "        X,Y= dataset[:,:-1],dataset[:,-1]\n",
    "        nb_samples,nb_features=np.shape(X)\n",
    "        \n",
    "        #split until conditions are met\n",
    "        #print(nb_samples,self.min_samples_split,curr_depth,self.max_depth)\n",
    "\n",
    "        if nb_samples>=self.min_samples_split and curr_depth<self.max_depth:\n",
    "           #print(nb_samples,self.min_samples_split,curr_depth,self.max_depth)\n",
    "            \n",
    "            best_split=self.get_best_split(dataset, nb_samples,nb_features)\n",
    "            #print(best_split)\n",
    "            if best_split!={}:\n",
    "                if best_split['info_gain']>0  :\n",
    "                    #print(best_split['info_gain'])\n",
    "                    left_subtree=self.build_tree(best_split[\"dataset_left\"],curr_depth+1)\n",
    "                    rigth_subtree=self.build_tree(best_split[\"dataset_right\"],curr_depth+1)\n",
    "                    return Node(best_split[\"feature_index\"],best_split[\"threshold\"],\n",
    "                            left_subtree,rigth_subtree,best_split[\"info_gain\"])\n",
    "     \n",
    "            #compute leaf node\n",
    "            leaf_value=self.calculate_leaf_value(Y)\n",
    "            return Node(value=leaf_value)\n",
    "        \n",
    "        \n",
    "    def get_best_split(self,dataset,nb_samples,nb_features):\n",
    "            \n",
    "            #dictionary to store the best split\n",
    "            best_split={}\n",
    "            max_info_gain=-float(\"inf\")\n",
    "            \n",
    "            #loop over all the features\n",
    "            for feature_index in range(nb_features):\n",
    "                feature_values=dataset[:,feature_index]\n",
    "                possible_thresholds=np.unique(feature_values)\n",
    "                #loop over all the feature values present in data\n",
    "                for threshold in possible_thresholds:\n",
    "                    #get current split\n",
    "                    dataset_left,dataset_right= self.split(dataset,feature_index,threshold)\n",
    "                    if len(dataset_left)>0 and len(dataset_right)>0:\n",
    "                        y,left_y,right_y=dataset[:,-1],dataset_left[:,-1],dataset_right[:,-1]\n",
    "                        #compute info gain\n",
    "                        curr_info_gain=self.information_gain(y,left_y,right_y,\"gini\")\n",
    "                        #update best split if conditions are met\n",
    "                        if curr_info_gain>max_info_gain:\n",
    "                            best_split[\"feature_index\"]=feature_index\n",
    "                            best_split[\"threshold\"]=threshold\n",
    "                            best_split[\"dataset_left\"]=dataset_left\n",
    "                            best_split[\"dataset_right\"]=dataset_right\n",
    "                            best_split[\"info_gain\"]=curr_info_gain\n",
    "                            max_info_gain=curr_info_gain\n",
    "            return best_split\n",
    "        \n",
    "    def split(self,dataset,feature_index,threshold):\n",
    "        dataset_left=np.array([row for row in dataset if row[feature_index]<=threshold])\n",
    "        dataset_right=np.array([row for row in dataset if row[feature_index]>threshold])\n",
    "        return dataset_left,dataset_right\n",
    "    \n",
    "    def information_gain(self,parent,l_split,r_split,mode=\"entropy\"):\n",
    "        weight_l=len(l_split)/len(parent)\n",
    "        weight_r=len(r_split)/len(parent)\n",
    "        if mode==\"gini\":\n",
    "            gain=self.gini_index(parent)-(weight_l*self.gini_index(l_split)+ weight_r*self.gini_index(r_split))\n",
    "        else:\n",
    "            gain=self.entropy(parent)-(weight_l*self.entropy(l_split)+ weight_r*self.entropy(r_split))\n",
    "        return gain\n",
    "    \n",
    "    def entropy(self,y):\n",
    "        class_labels=np.unique(y)\n",
    "        entropy=0\n",
    "        for cls in class_labels:\n",
    "            p_cls=len(y[y==cls])/len(y)\n",
    "            entropy += -p_cls*np.log2(p_cls)\n",
    "        return entropy\n",
    "    def gini_index(self,y):\n",
    "        class_labels=np.unique(y)\n",
    "        gini=0\n",
    "        for cls in class_labels:\n",
    "            p_cls=len(y[y==cls])/len(y)\n",
    "            gini += p_cls**2\n",
    "        return 1-gini\n",
    "    def calculate_leaf_value(self,Y):\n",
    "        Y=list(Y)\n",
    "        return max(Y, key=Y.count)\n",
    "    def print_tree(self,tree=None,indent=\" \"):\n",
    "        if not tree:\n",
    "            tree=self.root\n",
    "        if tree.value is not None:\n",
    "            print(tree.Value)\n",
    "        else:\n",
    "            print(\"X_\"+str(tree.feature_index),\"<=\", tree.threshold, \"?\",tree.info_gain)\n",
    "            print(\"%sleft:\" % (indent), end=\"\")\n",
    "            self.print_tree(tree.left, indent+indent)\n",
    "            print(\"%sright:\" % (indent), end=\"\")\n",
    "            self.print_tree(tree.right, indent + indent)\n",
    "    def fit(self, X, Y):\n",
    "        dataset= np.concatenate((X, Y), axis=1)\n",
    "        self.root= self.build_tree(dataset)\n",
    "    def predict(self,X):\n",
    "        predictions= [self.make_prediction(x, self.root) for x in X]\n",
    "        return predictions\n",
    "    def make_prediction(self,x,tree):\n",
    "       \n",
    "        if tree.value!=None: return tree.value\n",
    "        feature_val=x[tree.feature_index]\n",
    "        print(tree.value,feature_val,tree.threshold,tree.feature_index)\n",
    "        if feature_val<=tree.threshold:\n",
    "            return self.make_prediction(x,tree.left)\n",
    "        else:\n",
    "            return self.make_prediction(x, tree.right)"
   ]
  },
  {
   "cell_type": "code",
   "execution_count": 10,
   "id": "9b9c198a",
   "metadata": {},
   "outputs": [],
   "source": [
    "X2=train.iloc[:,:-1].values\n",
    "Y2=train.iloc[:,-1].values.reshape(-1,1)\n",
    "X2_train,X2_test,Y2_train,Y2_test= train_test_split(X2,Y2,test_size=.2,random_state=41)"
   ]
  },
  {
   "cell_type": "code",
   "execution_count": 11,
   "id": "1c4b2a7e",
   "metadata": {},
   "outputs": [
    {
     "name": "stdout",
     "output_type": "stream",
     "text": [
      "<__main__.Node object at 0x0000025867B1A8E0>\n"
     ]
    }
   ],
   "source": [
    "tree_classifier=Decision_tree(min_samples_split=10, max_depth=12)\n",
    "tree_classifier.fit(X2_train,Y2_train)\n",
    "#tree_classifier.print_tree()\n",
    "#tree_classifier.predict(X2_test)\n",
    "#print(tree_classifier.root)"
   ]
  },
  {
   "cell_type": "code",
   "execution_count": null,
   "id": "ef43615a",
   "metadata": {},
   "outputs": [],
   "source": []
  }
 ],
 "metadata": {
  "kernelspec": {
   "display_name": "Python 3 (ipykernel)",
   "language": "python",
   "name": "python3"
  },
  "language_info": {
   "codemirror_mode": {
    "name": "ipython",
    "version": 3
   },
   "file_extension": ".py",
   "mimetype": "text/x-python",
   "name": "python",
   "nbconvert_exporter": "python",
   "pygments_lexer": "ipython3",
   "version": "3.9.12"
  }
 },
 "nbformat": 4,
 "nbformat_minor": 5
}
